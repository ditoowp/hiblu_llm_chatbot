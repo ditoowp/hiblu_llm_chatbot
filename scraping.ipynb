{
 "cells": [
  {
   "cell_type": "markdown",
   "metadata": {},
   "source": [
    "<center><img src=\"https://imgtr.ee/images/2024/07/03/9eea693c3d3aee90f0ea2041012aa6a1.png\" alt=\"9eea693c3d3aee90f0ea2041012aa6a1.png\" border=\"0\" /></center>"
   ]
  },
  {
   "cell_type": "markdown",
   "metadata": {},
   "source": [
    "# **HiBlu**: Web Scraping\n",
    "\n",
    "By [Mavericks Team - Hacktiv8](https://github.com/FTDS-assignment-bay/p2-final-project-mavericks) | Data Resource: [FAQ Blu](https://blubybcadigital.id/info/faq)\n",
    "\n",
    "---"
   ]
  },
  {
   "cell_type": "markdown",
   "metadata": {},
   "source": [
    "# Introduction"
   ]
  },
  {
   "cell_type": "markdown",
   "metadata": {},
   "source": [
    "Program ini bertujuan untuk melakukan web scraping pada halaman FAQ website Blu BCA dan mengekstrasi informasi yang relevan untuk membuat chatbot yang mampu menjawab pertanyaan-pertanyaan umum (FAQ)."
   ]
  },
  {
   "cell_type": "markdown",
   "metadata": {},
   "source": [
    "# Import Libraries"
   ]
  },
  {
   "cell_type": "code",
   "execution_count": 1,
   "metadata": {},
   "outputs": [],
   "source": [
    "# Import Libraries\n",
    "import pandas as pd\n",
    "import time\n",
    "import json\n",
    "\n",
    "# Untuk Scraping\n",
    "from selenium import webdriver\n",
    "from selenium.webdriver.common.by import By\n",
    "from selenium.webdriver.support.ui import WebDriverWait\n",
    "from selenium.webdriver.support import expected_conditions as EC\n",
    "from selenium.webdriver.common.action_chains import ActionChains\n",
    "from bs4 import BeautifulSoup"
   ]
  },
  {
   "cell_type": "code",
   "execution_count": 20,
   "metadata": {},
   "outputs": [],
   "source": [
    "# Setting untuk display kolom (opsional)\n",
    "pd.set_option('display.max_columns', 100)\n",
    "pd.set_option('display.max_colwidth', None)"
   ]
  },
  {
   "cell_type": "markdown",
   "metadata": {},
   "source": [
    "# Web Scraping"
   ]
  },
  {
   "cell_type": "code",
   "execution_count": 2,
   "metadata": {},
   "outputs": [
    {
     "name": "stdout",
     "output_type": "stream",
     "text": [
      "                                              Question  \\\n",
      "0                                         Apa itu blu?   \n",
      "1                Apa perbedaan blu dengan BCA Digital?   \n",
      "2                Apa perbedaan BCA Digital dengan BCA?   \n",
      "3                   Apa keuntungan pakai aplikasi blu?   \n",
      "4              Apakah blu punya kantor cabang offline?   \n",
      "..                                                 ...   \n",
      "495  Saya gagal input password dan PIN transaksi ak...   \n",
      "496  Saya lupa password akun blu, apa yang harus sa...   \n",
      "497  Di mana saya dapat melihat riwayat transaksi B...   \n",
      "498  Di mana saya dapat melihat riwayat transaksi B...   \n",
      "499  Saya ingin memutus koneksi blu dengan aplikasi...   \n",
      "\n",
      "                                                Answer  \n",
      "0    blu merupakan aplikasimobile bankingdari BCA D...  \n",
      "1    blu adalah aplikasimobile bankingmilik BCA Dig...  \n",
      "2    BCA Digital merupakan anak perusahaan BCA, bag...  \n",
      "3    Gak terbatas ruang dan waktu, aplikasi blu bis...  \n",
      "4    blu gak punya kantor cabang offline, tapi tena...  \n",
      "..                                                 ...  \n",
      "495  Masuk ke dalam aplikasi blu, lalu pilih menu “...  \n",
      "496  1. Klik \"Lupa password\"2. Masukkan PIN kamu3. ...  \n",
      "497  Semua riwayat transaksi saat menggunakan blu d...  \n",
      "498  Riwayat transaksi dengan QRIS bisa kamu cek di...  \n",
      "499  Sedih deh, kalau bisa jangan, ya. Tapi, bagi k...  \n",
      "\n",
      "[500 rows x 2 columns]\n"
     ]
    }
   ],
   "source": [
    "# Setup webdriver (menggunakan chrome)\n",
    "driver = webdriver.Chrome() \n",
    "\n",
    "# Membuka URL FAQ Blu\n",
    "driver.get(\"https://blubybcadigital.id/info/faq\")\n",
    "\n",
    "# Menunggu website untuk load sampai menemukan element yang specific\n",
    "WebDriverWait(driver, 10).until(EC.presence_of_element_located((By.CLASS_NAME, \"card-faq\"))) # Elemen yang specific atau yang dicari adalah \"card-faq\"\n",
    "\n",
    "# Scroll page sampai bawah dengan tujuan untuk memastikan page ke-load semua\n",
    "last_height = driver.execute_script(\"return document.body.scrollHeight\")\n",
    "while True:\n",
    "    driver.execute_script(\"window.scrollTo(0, document.body.scrollHeight);\")\n",
    "    time.sleep(2)  # Jeda waktu untuk page ke-load\n",
    "    new_height = driver.execute_script(\"return document.body.scrollHeight\")\n",
    "    if new_height == last_height:\n",
    "        break\n",
    "    last_height = new_height\n",
    "\n",
    "# Meng-expand jawaban yang ada di-dropdown\n",
    "faq_items = driver.find_elements(By.CLASS_NAME, \"question-box\")\n",
    "for item in faq_items:\n",
    "    try:\n",
    "        ActionChains(driver).move_to_element(item).click().perform() # Klik dropdown\n",
    "        time.sleep(1)  # Jeda waktu agar answer ter-load\n",
    "    except:\n",
    "        continue\n",
    "\n",
    "# Mendapatkan page source setelah semua jawaban ter-display\n",
    "page_source = driver.page_source\n",
    "\n",
    "# Tutup webdriver\n",
    "driver.quit()\n",
    "\n",
    "# Parse konten HTML dengan BeautifulSoup\n",
    "soup = BeautifulSoup(page_source, 'html.parser')\n",
    "\n",
    "# Ekstraksi FAQ (Pertanyaan dan jawaban)\n",
    "faqs = []\n",
    "faq_sections = soup.find_all('div', class_='card-faq')\n",
    "\n",
    "for faq_section in faq_sections:\n",
    "    questions = faq_section.find_all('div', class_='question-box')\n",
    "    for question_box in questions:\n",
    "        question_element = question_box.find('div', class_='question')\n",
    "        question = question_element.get_text(strip=True) if question_element else 'Tidak ada pertanyaan'\n",
    "        answer_box = question_box.find_next_sibling('div', class_='answer-box')\n",
    "        if answer_box:\n",
    "            answer_element = answer_box.find('div', class_='answer')\n",
    "            answer = answer_element.get_text(strip=True) if answer_element else 'Tidak ada jawaban'\n",
    "            faqs.append({'Question': question, 'Answer': answer})\n",
    "            \n",
    "# Konversi data yang diekstrak menjadi DataFrame\n",
    "df = pd.DataFrame(faqs)\n",
    "\n",
    "# Display DataFrame\n",
    "print(df)\n"
   ]
  }
 ],
 "metadata": {
  "kernelspec": {
   "display_name": "base",
   "language": "python",
   "name": "python3"
  },
  "language_info": {
   "codemirror_mode": {
    "name": "ipython",
    "version": 3
   },
   "file_extension": ".py",
   "mimetype": "text/x-python",
   "name": "python",
   "nbconvert_exporter": "python",
   "pygments_lexer": "ipython3",
   "version": "3.11.7"
  }
 },
 "nbformat": 4,
 "nbformat_minor": 2
}
